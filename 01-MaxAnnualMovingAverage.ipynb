{
 "cells": [
  {
   "cell_type": "code",
   "execution_count": 1,
   "id": "36e03edd",
   "metadata": {},
   "outputs": [],
   "source": [
    "import xarray as xr\n",
    "import numpy as np\n",
    "import pandas as pd"
   ]
  },
  {
   "cell_type": "markdown",
   "id": "a51b2157",
   "metadata": {},
   "source": [
    "### Calculate Annual max 6-hr rolling sum"
   ]
  },
  {
   "cell_type": "code",
   "execution_count": 2,
   "id": "3395b645",
   "metadata": {},
   "outputs": [],
   "source": [
    "def calculate_annual_maximum_6hr_rolling_sum(netcdf_file, output_file):\n",
    "    # Open the NetCDF file\n",
    "    ds = xr.open_dataset(netcdf_file)\n",
    "    \n",
    "    # Extract the precipitation data (assuming the attribute is named 'crr')\n",
    "    precip = ds['crr']\n",
    "    \n",
    "    # Convert units from kg m^-2 s^-1 to mm/hr (1 kg m^-2 s^-1 = 3600 mm/hr)\n",
    "    precip_mm_hr = precip * 3600\n",
    "    \n",
    "    # Calculate the 6-hour rolling sum\n",
    "    rolling_sum = precip_mm_hr.rolling(time=6, min_periods=1).sum()\n",
    "    \n",
    "    # Group by year and calculate the annual maximum\n",
    "    annual_max = rolling_sum.groupby('time.year').max(dim='time')\n",
    "    \n",
    "    # Convert the result to a DataFrame\n",
    "    annual_max_df = annual_max.to_dataframe().reset_index()\n",
    "    \n",
    "    # Save the DataFrame to a CSV file\n",
    "    annual_max_df.to_csv(output_file, index=False)\n",
    "\n",
    "    \n",
    "# Read the Era5 file (netCDF, .nc)\n",
    "## for each file change the following directory\n",
    "netcdf_file = 'data\\\\era5\\\\NoSir_crr1996_2023.nc'\n",
    "\n",
    "# Save the results\n",
    "## for each file change the following directory\n",
    "output_file = 'outputs\\\\NoSir_Anmax_6hr.txt'\n",
    "\n",
    "\n",
    "# Call the function\n",
    "calculate_annual_maximum_6hr_rolling_sum(netcdf_file, output_file)"
   ]
  },
  {
   "cell_type": "markdown",
   "id": "30569a2f",
   "metadata": {},
   "source": [
    "### Calculate Annual max 12-hr rolling sum"
   ]
  },
  {
   "cell_type": "code",
   "execution_count": 11,
   "id": "0ecbe37a",
   "metadata": {},
   "outputs": [],
   "source": [
    "def calculate_annual_maximum_12hr_rolling_sum(netcdf_file, output_file):\n",
    "    # Open the NetCDF file\n",
    "    ds = xr.open_dataset(netcdf_file)\n",
    "    \n",
    "    # Extract the precipitation data (assuming the attribute is named 'crr')\n",
    "    precip = ds['crr']\n",
    "    \n",
    "    # Convert units from kg m^-2 s^-1 to mm/hr (1 kg m^-2 s^-1 = 3600 mm/hr)\n",
    "    precip_mm_hr = precip * 3600\n",
    "    \n",
    "    # Calculate the 6-hour rolling sum\n",
    "    rolling_sum = precip_mm_hr.rolling(time=12, min_periods=1).sum()\n",
    "    \n",
    "    # Group by year and calculate the annual maximum\n",
    "    annual_max = rolling_sum.groupby('time.year').max(dim='time')\n",
    "    \n",
    "    # Convert the result to a DataFrame\n",
    "    annual_max_df = annual_max.to_dataframe().reset_index()\n",
    "    \n",
    "    # Save the DataFrame to a CSV file\n",
    "    annual_max_df.to_csv(output_file, index=False)\n",
    "\n",
    "    \n",
    "# Read the Era5 file (netCDF, .nc)\n",
    "## for each file change the following directory\n",
    "netcdf_file = 'data\\\\era5\\\\KRB_crr1996_2023.nc'\n",
    "\n",
    "# Save the results\n",
    "## for each file change the following directory\n",
    "output_file = 'outputs\\\\KRB_Anmax_12hr.txt'\n",
    "\n",
    "\n",
    "# Call the function\n",
    "calculate_annual_maximum_12hr_rolling_sum(netcdf_file, output_file)"
   ]
  },
  {
   "cell_type": "markdown",
   "id": "e374d662",
   "metadata": {},
   "source": [
    "### Calculate Annual max 18-hr rolling sum"
   ]
  },
  {
   "cell_type": "code",
   "execution_count": 15,
   "id": "ea3b794b",
   "metadata": {},
   "outputs": [],
   "source": [
    "def calculate_annual_maximum_18hr_rolling_sum(netcdf_file, output_file):\n",
    "    # Open the NetCDF file\n",
    "    ds = xr.open_dataset(netcdf_file)\n",
    "    \n",
    "    # Extract the precipitation data (assuming the attribute is named 'crr')\n",
    "    precip = ds['crr']\n",
    "    \n",
    "    # Convert units from kg m^-2 s^-1 to mm/hr (1 kg m^-2 s^-1 = 3600 mm/hr)\n",
    "    precip_mm_hr = precip * 3600\n",
    "    \n",
    "    # Calculate the 18-hour rolling sum\n",
    "    rolling_sum = precip_mm_hr.rolling(time=18, min_periods=1).sum()\n",
    "    \n",
    "    # Group by year and calculate the annual maximum\n",
    "    annual_max = rolling_sum.groupby('time.year').max(dim='time')\n",
    "    \n",
    "    # Convert the result to a DataFrame\n",
    "    annual_max_df = annual_max.to_dataframe().reset_index()\n",
    "    \n",
    "    # Save the DataFrame to a CSV file\n",
    "    annual_max_df.to_csv(output_file, index=False)\n",
    "\n",
    "    \n",
    "# Read the Era5 file (netCDF, .nc)\n",
    "## for each file change the following directory\n",
    "netcdf_file = 'data\\\\era5\\\\KRB_crr1996_2023.nc'\n",
    "\n",
    "# Save the results\n",
    "## for each file change the following directory\n",
    "output_file = 'outputs\\\\KRB_Anmax_18hr.txt'\n",
    "\n",
    "\n",
    "# Call the function\n",
    "calculate_annual_maximum_18hr_rolling_sum(netcdf_file, output_file)"
   ]
  },
  {
   "cell_type": "markdown",
   "id": "63ffcaf0",
   "metadata": {},
   "source": [
    "### Calculate Annual max 24-hr rolling sum"
   ]
  },
  {
   "cell_type": "code",
   "execution_count": 17,
   "id": "60414a94",
   "metadata": {},
   "outputs": [],
   "source": [
    "def calculate_annual_maximum_24hr_rolling_sum(netcdf_file, output_file):\n",
    "    # Open the NetCDF file\n",
    "    ds = xr.open_dataset(netcdf_file)\n",
    "    \n",
    "    # Extract the precipitation data (assuming the attribute is named 'crr')\n",
    "    precip = ds['crr']\n",
    "    \n",
    "    # Convert units from kg m^-2 s^-1 to mm/hr (1 kg m^-2 s^-1 = 3600 mm/hr)\n",
    "    precip_mm_hr = precip * 3600\n",
    "    \n",
    "    # Calculate the 18-hour rolling sum\n",
    "    rolling_sum = precip_mm_hr.rolling(time=24, min_periods=1).sum()\n",
    "    \n",
    "    # Group by year and calculate the annual maximum\n",
    "    annual_max = rolling_sum.groupby('time.year').max(dim='time')\n",
    "    \n",
    "    # Convert the result to a DataFrame\n",
    "    annual_max_df = annual_max.to_dataframe().reset_index()\n",
    "    \n",
    "    # Save the DataFrame to a CSV file\n",
    "    annual_max_df.to_csv(output_file, index=False)\n",
    "\n",
    "    \n",
    "# Read the Era5 file (netCDF, .nc)\n",
    "## for each file change the following directory\n",
    "netcdf_file = 'data\\\\era5\\\\KRB_crr1996_2023.nc'\n",
    "\n",
    "# Save the results\n",
    "## for each file change the following directory\n",
    "output_file = 'outputs\\\\KRB_Anmax_24hr.txt'\n",
    "\n",
    "\n",
    "# Call the function\n",
    "calculate_annual_maximum_24hr_rolling_sum(netcdf_file, output_file)"
   ]
  }
 ],
 "metadata": {
  "kernelspec": {
   "display_name": "Python 3 (ipykernel)",
   "language": "python",
   "name": "python3"
  },
  "language_info": {
   "codemirror_mode": {
    "name": "ipython",
    "version": 3
   },
   "file_extension": ".py",
   "mimetype": "text/x-python",
   "name": "python",
   "nbconvert_exporter": "python",
   "pygments_lexer": "ipython3",
   "version": "3.11.5"
  }
 },
 "nbformat": 4,
 "nbformat_minor": 5
}
