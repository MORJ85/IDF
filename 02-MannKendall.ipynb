{
 "cells": [
  {
   "cell_type": "code",
   "execution_count": null,
   "id": "37358726",
   "metadata": {},
   "outputs": [],
   "source": [
    "# pip install pymannkendall"
   ]
  },
  {
   "cell_type": "code",
   "execution_count": null,
   "id": "bd1d05bf",
   "metadata": {},
   "outputs": [],
   "source": [
    "# pip install xlrd"
   ]
  },
  {
   "cell_type": "code",
   "execution_count": 2,
   "id": "13a2db03",
   "metadata": {},
   "outputs": [],
   "source": [
    "import pandas as pd\n",
    "from scipy.stats import kendalltau\n",
    "import numpy as np\n",
    "import pymannkendall as mk"
   ]
  },
  {
   "cell_type": "markdown",
   "id": "776e7f0c",
   "metadata": {},
   "source": [
    "# Mann-Kendall Test for Stationary/Non-Stationary Analysis on Annual Max Moving Average Data"
   ]
  },
  {
   "cell_type": "markdown",
   "id": "ad2555fe",
   "metadata": {},
   "source": [
    "## North_AtrakGharesu Basin"
   ]
  },
  {
   "cell_type": "markdown",
   "id": "e8690cb3",
   "metadata": {},
   "source": [
    "### ... 6h"
   ]
  },
  {
   "cell_type": "code",
   "execution_count": 3,
   "id": "9b62a9ef",
   "metadata": {},
   "outputs": [],
   "source": [
    "# Path to the uploaded Excel file\n",
    "excel_path = 'data\\\\AMMA_BF\\\\North_AtrakGharesu_AnMaxBF_6hr_TableToExcel.xls'\n",
    "\n",
    "# Read the Excel file\n",
    "df = pd.read_excel(excel_path)\n",
    "\n",
    "# Extract the unique geographical points\n",
    "unique_points = df[['latitude', 'longitude']].drop_duplicates()\n",
    "\n",
    "# Initialize a list to store the results\n",
    "results = []\n",
    "\n",
    "# Loop over each unique point\n",
    "\n",
    "for _, point in unique_points.iterrows():\n",
    "    # Extract the time series for the current point\n",
    "    point_data = df[(df['latitude'] == point['latitude']) & (df['longitude'] == point['longitude'])]\n",
    "    time_series = point_data['AnMax_BF'].values\n",
    "    \n",
    "    # Perform the Mann-Kendall test\n",
    "    result = mk.original_test(time_series)\n",
    "    \n",
    "    # Append the results (Latitude, Longitude, Z-value) to the results list\n",
    "    results.append([point['latitude'], point['longitude'], result.z])\n",
    "    \n",
    "    \n",
    "# Convert the results to a DataFrame\n",
    "results_df = pd.DataFrame(results, columns=['latitude', 'longitude', 'Z_value'])\n",
    "\n",
    "# Save the results to a new Excel file\n",
    "output_excel_path = 'data\\\\AMMA_BF\\\\North_AtrakGharesu_6hr_MannKendall.xlsx'\n",
    "results_df.to_excel(output_excel_path, index=False)"
   ]
  },
  {
   "cell_type": "markdown",
   "id": "28898b51",
   "metadata": {},
   "source": [
    "### ... 12h"
   ]
  },
  {
   "cell_type": "code",
   "execution_count": null,
   "id": "5a901649",
   "metadata": {},
   "outputs": [],
   "source": [
    "# Path to the uploaded Excel file\n",
    "excel_path = 'data\\\\AMMA_BF\\\\North_AtrakGharesu_AnMaxBF_12hr_TableToExcel.xls'\n",
    "\n",
    "# Read the Excel file\n",
    "df = pd.read_excel(excel_path)\n",
    "\n",
    "# Extract the unique geographical points\n",
    "unique_points = df[['latitude', 'longitude']].drop_duplicates()\n",
    "\n",
    "# Initialize a list to store the results\n",
    "results = []\n",
    "\n",
    "\n",
    "# Loop over each unique point\n",
    "\n",
    "for _, point in unique_points.iterrows():\n",
    "    # Extract the time series for the current point\n",
    "    point_data = df[(df['latitude'] == point['latitude']) & (df['longitude'] == point['longitude'])]\n",
    "    time_series = point_data['AnMax_BF'].values\n",
    "    \n",
    "    # Perform the Mann-Kendall test\n",
    "    result = mk.original_test(time_series)\n",
    "    \n",
    "    # Append the results (Latitude, Longitude, Z-value) to the results list\n",
    "    results.append([point['latitude'], point['longitude'], result.z])\n",
    "    \n",
    "# Convert the results to a DataFrame\n",
    "results_df = pd.DataFrame(results, columns=['latitude', 'longitude', 'Z_value'])\n",
    "\n",
    "# Save the results to a new Excel file\n",
    "output_excel_path = 'data\\\\AMMA_BF\\\\North_AtrakGharesu_12hr_MannKendall.xlsx'\n",
    "results_df.to_excel(output_excel_path, index=False)"
   ]
  },
  {
   "cell_type": "markdown",
   "id": "00fa7db4",
   "metadata": {},
   "source": [
    "### ... 18h"
   ]
  },
  {
   "cell_type": "code",
   "execution_count": null,
   "id": "725acefe",
   "metadata": {},
   "outputs": [],
   "source": [
    "# Path to the uploaded Excel file\n",
    "excel_path = 'data\\\\AMMA_BF\\\\North_AtrakGharesu_AnMaxBF_18hr_TableToExcel.xls'\n",
    "\n",
    "# Read the Excel file\n",
    "df = pd.read_excel(excel_path)\n",
    "\n",
    "# Extract the unique geographical points\n",
    "unique_points = df[['latitude', 'longitude']].drop_duplicates()\n",
    "\n",
    "# Initialize a list to store the results\n",
    "results = []\n",
    "\n",
    "\n",
    "\n",
    "# Loop over each unique point\n",
    "\n",
    "for _, point in unique_points.iterrows():\n",
    "    # Extract the time series for the current point\n",
    "    point_data = df[(df['latitude'] == point['latitude']) & (df['longitude'] == point['longitude'])]\n",
    "    time_series = point_data['AnMax_BF'].values\n",
    "    \n",
    "    # Perform the Mann-Kendall test\n",
    "    result = mk.original_test(time_series)\n",
    "    \n",
    "    # Append the results (Latitude, Longitude, Z-value) to the results list\n",
    "    results.append([point['latitude'], point['longitude'], result.z])\n",
    "    \n",
    "    \n",
    "# Convert the results to a DataFrame\n",
    "results_df = pd.DataFrame(results, columns=['latitude', 'longitude', 'Z_value'])\n",
    "\n",
    "# Save the results to a new Excel file\n",
    "output_excel_path = 'data\\\\AMMA_BF\\\\North_AtrakGharesu_18hr_MannKendall.xlsx'\n",
    "results_df.to_excel(output_excel_path, index=False)"
   ]
  },
  {
   "cell_type": "markdown",
   "id": "1a7ea6f6",
   "metadata": {},
   "source": [
    "### ... 24h"
   ]
  },
  {
   "cell_type": "code",
   "execution_count": null,
   "id": "6f4c5834",
   "metadata": {},
   "outputs": [],
   "source": [
    "# Path to the uploaded Excel file\n",
    "excel_path = 'data\\\\AMMA_BF\\\\North_AtrakGharesu_AnMaxBF_24hr_TableToExcel.xls'\n",
    "\n",
    "# Read the Excel file\n",
    "df = pd.read_excel(excel_path)\n",
    "\n",
    "# Extract the unique geographical points\n",
    "unique_points = df[['latitude', 'longitude']].drop_duplicates()\n",
    "\n",
    "# Initialize a list to store the results\n",
    "results = []\n",
    "\n",
    "\n",
    "\n",
    "# Loop over each unique point\n",
    "\n",
    "for _, point in unique_points.iterrows():\n",
    "    # Extract the time series for the current point\n",
    "    point_data = df[(df['latitude'] == point['latitude']) & (df['longitude'] == point['longitude'])]\n",
    "    time_series = point_data['AnMax_BF'].values\n",
    "    \n",
    "    # Perform the Mann-Kendall test\n",
    "    result = mk.original_test(time_series)\n",
    "    \n",
    "    # Append the results (Latitude, Longitude, Z-value) to the results list\n",
    "    results.append([point['latitude'], point['longitude'], result.z])\n",
    "    \n",
    "    \n",
    "# Convert the results to a DataFrame\n",
    "results_df = pd.DataFrame(results, columns=['latitude', 'longitude', 'Z_value'])\n",
    "\n",
    "# Save the results to a new Excel file\n",
    "output_excel_path = 'data\\\\AMMA_BF\\\\North_AtrakGharesu_24hr_MannKendall.xlsx'\n",
    "results_df.to_excel(output_excel_path, index=False)"
   ]
  },
  {
   "cell_type": "markdown",
   "id": "04f6dfc2",
   "metadata": {},
   "source": [
    "## Sirjan Basin"
   ]
  },
  {
   "cell_type": "markdown",
   "id": "04af01bd",
   "metadata": {},
   "source": [
    "### ... 6h"
   ]
  },
  {
   "cell_type": "code",
   "execution_count": 3,
   "id": "caff009b",
   "metadata": {},
   "outputs": [],
   "source": [
    "# Path to the uploaded Excel file\n",
    "excel_path = 'data\\\\AMMA_BF\\\\Sirjan_AnMaxBF_6hr_TableToExcel.xls'\n",
    "\n",
    "# Read the Excel file\n",
    "df = pd.read_excel(excel_path)\n",
    "\n",
    "# Extract the unique geographical points\n",
    "unique_points = df[['latitude', 'longitude']].drop_duplicates()\n",
    "\n",
    "# Initialize a list to store the results\n",
    "results = []\n",
    "\n",
    "# Loop over each unique point\n",
    "\n",
    "for _, point in unique_points.iterrows():\n",
    "    # Extract the time series for the current point\n",
    "    point_data = df[(df['latitude'] == point['latitude']) & (df['longitude'] == point['longitude'])]\n",
    "    time_series = point_data['AnMax_BF'].values\n",
    "    \n",
    "    # Perform the Mann-Kendall test\n",
    "    result = mk.original_test(time_series)\n",
    "    \n",
    "    # Append the results (Latitude, Longitude, Z-value) to the results list\n",
    "    results.append([point['latitude'], point['longitude'], result.z])\n",
    "    \n",
    "    \n",
    "# Convert the results to a DataFrame\n",
    "results_df = pd.DataFrame(results, columns=['latitude', 'longitude', 'Z_value'])\n",
    "\n",
    "# Save the results to a new Excel file\n",
    "output_excel_path = 'data\\\\AMMA_BF\\\\Sirjan_6hr_MannKendall.xlsx'\n",
    "results_df.to_excel(output_excel_path, index=False)"
   ]
  },
  {
   "cell_type": "markdown",
   "id": "8e5ed83d",
   "metadata": {},
   "source": [
    "### ... 12h"
   ]
  },
  {
   "cell_type": "code",
   "execution_count": 4,
   "id": "41448c6b",
   "metadata": {},
   "outputs": [],
   "source": [
    "# Path to the uploaded Excel file\n",
    "excel_path = 'data\\\\AMMA_BF\\\\Sirjan_AnMaxBF_12hr_TableToExcel.xls'\n",
    "\n",
    "# Read the Excel file\n",
    "df = pd.read_excel(excel_path)\n",
    "\n",
    "# Extract the unique geographical points\n",
    "unique_points = df[['latitude', 'longitude']].drop_duplicates()\n",
    "\n",
    "# Initialize a list to store the results\n",
    "results = []\n",
    "\n",
    "\n",
    "# Loop over each unique point\n",
    "\n",
    "for _, point in unique_points.iterrows():\n",
    "    # Extract the time series for the current point\n",
    "    point_data = df[(df['latitude'] == point['latitude']) & (df['longitude'] == point['longitude'])]\n",
    "    time_series = point_data['AnMax_BF'].values\n",
    "    \n",
    "    # Perform the Mann-Kendall test\n",
    "    result = mk.original_test(time_series)\n",
    "    \n",
    "    # Append the results (Latitude, Longitude, Z-value) to the results list\n",
    "    results.append([point['latitude'], point['longitude'], result.z])\n",
    "    \n",
    "# Convert the results to a DataFrame\n",
    "results_df = pd.DataFrame(results, columns=['latitude', 'longitude', 'Z_value'])\n",
    "\n",
    "# Save the results to a new Excel file\n",
    "output_excel_path = 'data\\\\AMMA_BF\\\\Sirjan_12hr_MannKendall.xlsx'\n",
    "results_df.to_excel(output_excel_path, index=False)"
   ]
  },
  {
   "cell_type": "markdown",
   "id": "365083ab",
   "metadata": {},
   "source": [
    "### ... 18h"
   ]
  },
  {
   "cell_type": "code",
   "execution_count": 5,
   "id": "ec139b5e",
   "metadata": {},
   "outputs": [],
   "source": [
    "# Path to the uploaded Excel file\n",
    "excel_path = 'data\\\\AMMA_BF\\\\Sirjan_AnMaxBF_18hr_TableToExcel.xls'\n",
    "\n",
    "# Read the Excel file\n",
    "df = pd.read_excel(excel_path)\n",
    "\n",
    "# Extract the unique geographical points\n",
    "unique_points = df[['latitude', 'longitude']].drop_duplicates()\n",
    "\n",
    "# Initialize a list to store the results\n",
    "results = []\n",
    "\n",
    "\n",
    "\n",
    "# Loop over each unique point\n",
    "\n",
    "for _, point in unique_points.iterrows():\n",
    "    # Extract the time series for the current point\n",
    "    point_data = df[(df['latitude'] == point['latitude']) & (df['longitude'] == point['longitude'])]\n",
    "    time_series = point_data['AnMax_BF'].values\n",
    "    \n",
    "    # Perform the Mann-Kendall test\n",
    "    result = mk.original_test(time_series)\n",
    "    \n",
    "    # Append the results (Latitude, Longitude, Z-value) to the results list\n",
    "    results.append([point['latitude'], point['longitude'], result.z])\n",
    "    \n",
    "    \n",
    "# Convert the results to a DataFrame\n",
    "results_df = pd.DataFrame(results, columns=['latitude', 'longitude', 'Z_value'])\n",
    "\n",
    "# Save the results to a new Excel file\n",
    "output_excel_path = 'data\\\\AMMA_BF\\\\Sirjan_18hr_MannKendall.xlsx'\n",
    "results_df.to_excel(output_excel_path, index=False)"
   ]
  },
  {
   "cell_type": "markdown",
   "id": "a0e5271d",
   "metadata": {},
   "source": [
    "### ... 24h"
   ]
  },
  {
   "cell_type": "code",
   "execution_count": 6,
   "id": "cefa4bd8",
   "metadata": {},
   "outputs": [],
   "source": [
    "# Path to the uploaded Excel file\n",
    "excel_path = 'data\\\\AMMA_BF\\\\Sirjan_AnMaxBF_24hr_TableToExcel.xls'\n",
    "\n",
    "# Read the Excel file\n",
    "df = pd.read_excel(excel_path)\n",
    "\n",
    "# Extract the unique geographical points\n",
    "unique_points = df[['latitude', 'longitude']].drop_duplicates()\n",
    "\n",
    "# Initialize a list to store the results\n",
    "results = []\n",
    "\n",
    "\n",
    "\n",
    "# Loop over each unique point\n",
    "\n",
    "for _, point in unique_points.iterrows():\n",
    "    # Extract the time series for the current point\n",
    "    point_data = df[(df['latitude'] == point['latitude']) & (df['longitude'] == point['longitude'])]\n",
    "    time_series = point_data['AnMax_BF'].values\n",
    "    \n",
    "    # Perform the Mann-Kendall test\n",
    "    result = mk.original_test(time_series)\n",
    "    \n",
    "    # Append the results (Latitude, Longitude, Z-value) to the results list\n",
    "    results.append([point['latitude'], point['longitude'], result.z])\n",
    "    \n",
    "    \n",
    "# Convert the results to a DataFrame\n",
    "results_df = pd.DataFrame(results, columns=['latitude', 'longitude', 'Z_value'])\n",
    "\n",
    "# Save the results to a new Excel file\n",
    "output_excel_path = 'data\\\\AMMA_BF\\\\Sirjan_24hr_MannKendall.xlsx'\n",
    "results_df.to_excel(output_excel_path, index=False)"
   ]
  },
  {
   "cell_type": "markdown",
   "id": "f8c7684e",
   "metadata": {},
   "source": [
    "## Karkheh River Basin"
   ]
  },
  {
   "cell_type": "markdown",
   "id": "60279e9c",
   "metadata": {},
   "source": [
    "### ... 6h"
   ]
  },
  {
   "cell_type": "code",
   "execution_count": 7,
   "id": "191cf0f8",
   "metadata": {},
   "outputs": [],
   "source": [
    "# Path to the uploaded Excel file\n",
    "excel_path = 'data\\\\AMMA_BF\\\\KRB_AnMaxBF_6hr_TableToExcel.xls'\n",
    "\n",
    "# Read the Excel file\n",
    "df = pd.read_excel(excel_path)\n",
    "\n",
    "# Extract the unique geographical points\n",
    "unique_points = df[['latitude', 'longitude']].drop_duplicates()\n",
    "\n",
    "# Initialize a list to store the results\n",
    "results = []\n",
    "\n",
    "# Loop over each unique point\n",
    "\n",
    "for _, point in unique_points.iterrows():\n",
    "    # Extract the time series for the current point\n",
    "    point_data = df[(df['latitude'] == point['latitude']) & (df['longitude'] == point['longitude'])]\n",
    "    time_series = point_data['AnMax_BF'].values\n",
    "    \n",
    "    # Perform the Mann-Kendall test\n",
    "    result = mk.original_test(time_series)\n",
    "    \n",
    "    # Append the results (Latitude, Longitude, Z-value) to the results list\n",
    "    results.append([point['latitude'], point['longitude'], result.z])\n",
    "    \n",
    "    \n",
    "# Convert the results to a DataFrame\n",
    "results_df = pd.DataFrame(results, columns=['latitude', 'longitude', 'Z_value'])\n",
    "\n",
    "# Save the results to a new Excel file\n",
    "output_excel_path = 'data\\\\AMMA_BF\\\\KRB_6hr_MannKendall.xlsx'\n",
    "results_df.to_excel(output_excel_path, index=False)"
   ]
  },
  {
   "cell_type": "markdown",
   "id": "97aaf163",
   "metadata": {},
   "source": [
    "### ... 12h"
   ]
  },
  {
   "cell_type": "code",
   "execution_count": 8,
   "id": "750ad399",
   "metadata": {},
   "outputs": [],
   "source": [
    "# Path to the uploaded Excel file\n",
    "excel_path = 'data\\\\AMMA_BF\\\\KRB_AnMaxBF_12hr_TableToExcel.xls'\n",
    "\n",
    "# Read the Excel file\n",
    "df = pd.read_excel(excel_path)\n",
    "\n",
    "# Extract the unique geographical points\n",
    "unique_points = df[['latitude', 'longitude']].drop_duplicates()\n",
    "\n",
    "# Initialize a list to store the results\n",
    "results = []\n",
    "\n",
    "\n",
    "# Loop over each unique point\n",
    "\n",
    "for _, point in unique_points.iterrows():\n",
    "    # Extract the time series for the current point\n",
    "    point_data = df[(df['latitude'] == point['latitude']) & (df['longitude'] == point['longitude'])]\n",
    "    time_series = point_data['AnMax_BF'].values\n",
    "    \n",
    "    # Perform the Mann-Kendall test\n",
    "    result = mk.original_test(time_series)\n",
    "    \n",
    "    # Append the results (Latitude, Longitude, Z-value) to the results list\n",
    "    results.append([point['latitude'], point['longitude'], result.z])\n",
    "    \n",
    "# Convert the results to a DataFrame\n",
    "results_df = pd.DataFrame(results, columns=['latitude', 'longitude', 'Z_value'])\n",
    "\n",
    "# Save the results to a new Excel file\n",
    "output_excel_path = 'data\\\\AMMA_BF\\\\KRB_12hr_MannKendall.xlsx'\n",
    "results_df.to_excel(output_excel_path, index=False)"
   ]
  },
  {
   "cell_type": "markdown",
   "id": "c551d6b6",
   "metadata": {},
   "source": [
    "### ... 18h"
   ]
  },
  {
   "cell_type": "code",
   "execution_count": 9,
   "id": "d5b1cb22",
   "metadata": {},
   "outputs": [],
   "source": [
    "# Path to the uploaded Excel file\n",
    "excel_path = 'data\\\\AMMA_BF\\\\KRB_AnMaxBF_18hr_TableToExcel.xls'\n",
    "\n",
    "# Read the Excel file\n",
    "df = pd.read_excel(excel_path)\n",
    "\n",
    "# Extract the unique geographical points\n",
    "unique_points = df[['latitude', 'longitude']].drop_duplicates()\n",
    "\n",
    "# Initialize a list to store the results\n",
    "results = []\n",
    "\n",
    "\n",
    "\n",
    "# Loop over each unique point\n",
    "\n",
    "for _, point in unique_points.iterrows():\n",
    "    # Extract the time series for the current point\n",
    "    point_data = df[(df['latitude'] == point['latitude']) & (df['longitude'] == point['longitude'])]\n",
    "    time_series = point_data['AnMax_BF'].values\n",
    "    \n",
    "    # Perform the Mann-Kendall test\n",
    "    result = mk.original_test(time_series)\n",
    "    \n",
    "    # Append the results (Latitude, Longitude, Z-value) to the results list\n",
    "    results.append([point['latitude'], point['longitude'], result.z])\n",
    "    \n",
    "    \n",
    "# Convert the results to a DataFrame\n",
    "results_df = pd.DataFrame(results, columns=['latitude', 'longitude', 'Z_value'])\n",
    "\n",
    "# Save the results to a new Excel file\n",
    "output_excel_path = 'data\\\\AMMA_BF\\\\KRB_18hr_MannKendall.xlsx'\n",
    "results_df.to_excel(output_excel_path, index=False)"
   ]
  },
  {
   "cell_type": "markdown",
   "id": "addb82bd",
   "metadata": {},
   "source": [
    "### ... 24h"
   ]
  },
  {
   "cell_type": "code",
   "execution_count": 10,
   "id": "2756a432",
   "metadata": {},
   "outputs": [],
   "source": [
    "# Path to the uploaded Excel file\n",
    "excel_path = 'data\\\\AMMA_BF\\\\KRB_AnMaxBF_24hr_TableToExcel.xls'\n",
    "\n",
    "# Read the Excel file\n",
    "df = pd.read_excel(excel_path)\n",
    "\n",
    "# Extract the unique geographical points\n",
    "unique_points = df[['latitude', 'longitude']].drop_duplicates()\n",
    "\n",
    "# Initialize a list to store the results\n",
    "results = []\n",
    "\n",
    "\n",
    "# Loop over each unique point\n",
    "\n",
    "for _, point in unique_points.iterrows():\n",
    "    # Extract the time series for the current point\n",
    "    point_data = df[(df['latitude'] == point['latitude']) & (df['longitude'] == point['longitude'])]\n",
    "    time_series = point_data['AnMax_BF'].values\n",
    "    \n",
    "    # Perform the Mann-Kendall test\n",
    "    result = mk.original_test(time_series)\n",
    "    \n",
    "    # Append the results (Latitude, Longitude, Z-value) to the results list\n",
    "    results.append([point['latitude'], point['longitude'], result.z])\n",
    "    \n",
    "    \n",
    "# Convert the results to a DataFrame\n",
    "results_df = pd.DataFrame(results, columns=['latitude', 'longitude', 'Z_value'])\n",
    "\n",
    "# Save the results to a new Excel file\n",
    "output_excel_path = 'data\\\\AMMA_BF\\\\KRB_24hr_MannKendall.xlsx'\n",
    "results_df.to_excel(output_excel_path, index=False)"
   ]
  }
 ],
 "metadata": {
  "kernelspec": {
   "display_name": "Python 3 (ipykernel)",
   "language": "python",
   "name": "python3"
  },
  "language_info": {
   "codemirror_mode": {
    "name": "ipython",
    "version": 3
   },
   "file_extension": ".py",
   "mimetype": "text/x-python",
   "name": "python",
   "nbconvert_exporter": "python",
   "pygments_lexer": "ipython3",
   "version": "3.11.5"
  }
 },
 "nbformat": 4,
 "nbformat_minor": 5
}
