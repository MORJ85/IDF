{
 "cells": [
  {
   "cell_type": "code",
   "execution_count": 1,
   "id": "75bdd8cb",
   "metadata": {},
   "outputs": [
    {
     "name": "stdout",
     "output_type": "stream",
     "text": [
      "Defaulting to user installation because normal site-packages is not writeable\n",
      "Note: you may need to restart the kernel to use updated packages.\n"
     ]
    },
    {
     "name": "stderr",
     "output_type": "stream",
     "text": [
      "ERROR: Could not find a version that satisfies the requirement pygev (from versions: none)\n",
      "ERROR: No matching distribution found for pygev\n"
     ]
    }
   ],
   "source": [
    "pip install pygev"
   ]
  },
  {
   "cell_type": "code",
   "execution_count": null,
   "id": "6486c0b4",
   "metadata": {},
   "outputs": [],
   "source": [
    "import numpy as np\n",
    "import pygev\n",
    "import matplotlib.pyplot as plt"
   ]
  },
  {
   "cell_type": "code",
   "execution_count": null,
   "id": "6527afc9",
   "metadata": {},
   "outputs": [],
   "source": [
    "# فرض کنید داده‌ها غیرایستا هستند (دارای روند)\n",
    "data_nonstationary = np.random.randn(100).cumsum()  # داده‌های دارای روند"
   ]
  },
  {
   "cell_type": "code",
   "execution_count": null,
   "id": "86de9737",
   "metadata": {},
   "outputs": [],
   "source": [
    "# 1. تفاضل‌گیری از داده‌ها برای ایستا کردن آن‌ها\n",
    "data_diff = np.diff(data_nonstationary)"
   ]
  },
  {
   "cell_type": "code",
   "execution_count": null,
   "id": "8821a3bc",
   "metadata": {},
   "outputs": [],
   "source": [
    "# رسم هیستوگرام داده‌های ایستا شده\n",
    "plt.hist(data_nonstationary, bins=20, density=True, alpha=0.6, color='b', label='Differenced Data')"
   ]
  },
  {
   "cell_type": "code",
   "execution_count": null,
   "id": "221efcfb",
   "metadata": {},
   "outputs": [],
   "source": [
    "# 2. برازش توزیع GEV به داده‌های ایستا شده (پس از تفاضل‌گیری)\n",
    "shape, loc, scale = genextreme.fit(data_diff)"
   ]
  },
  {
   "cell_type": "code",
   "execution_count": null,
   "id": "9876cc3a",
   "metadata": {},
   "outputs": [],
   "source": [
    "# نمایش پارامترهای توزیع GEV\n",
    "print(f\"GEV Parameters after differencing - Shape: {shape}, Location: {loc}, Scale: {scale}\")"
   ]
  },
  {
   "cell_type": "code",
   "execution_count": null,
   "id": "dce1f2c6",
   "metadata": {},
   "outputs": [],
   "source": [
    "# رسم هیستوگرام داده‌های ایستا شده\n",
    "plt.hist(data_diff, bins=20, density=True, alpha=0.6, color='b', label='Differenced Data')"
   ]
  },
  {
   "cell_type": "code",
   "execution_count": null,
   "id": "165390fd",
   "metadata": {},
   "outputs": [],
   "source": [
    "# ایجاد تابع چگالی توزیع GEV\n",
    "x = np.linspace(min(data_diff), max(data_diff), 100)\n",
    "pdf = genextreme.pdf(x, shape, loc, scale)"
   ]
  },
  {
   "cell_type": "code",
   "execution_count": null,
   "id": "7c9fe253",
   "metadata": {},
   "outputs": [],
   "source": [
    "# رسم منحنی توزیع GEV\n",
    "plt.plot(x, pdf, 'r-', lw=2, label='GEV fit')\n",
    "plt.hist(data_diff, bins=20, density=True, alpha=0.6, color='c', label='Differenced Data')\n",
    "plt.hist(data_nonstationary, bins=20, density=True, alpha=0.6, color='b', label='Data')\n",
    "plt.title('GEV Fit after Differencing (for Non-Stationary Data)')\n",
    "plt.legend()\n",
    "plt.show()"
   ]
  },
  {
   "cell_type": "code",
   "execution_count": null,
   "id": "15619a3f",
   "metadata": {},
   "outputs": [],
   "source": []
  }
 ],
 "metadata": {
  "kernelspec": {
   "display_name": "Python 3 (ipykernel)",
   "language": "python",
   "name": "python3"
  },
  "language_info": {
   "codemirror_mode": {
    "name": "ipython",
    "version": 3
   },
   "file_extension": ".py",
   "mimetype": "text/x-python",
   "name": "python",
   "nbconvert_exporter": "python",
   "pygments_lexer": "ipython3",
   "version": "3.11.5"
  }
 },
 "nbformat": 4,
 "nbformat_minor": 5
}
